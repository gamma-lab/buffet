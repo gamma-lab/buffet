{
 "cells": [
  {
   "cell_type": "markdown",
   "metadata": {},
   "source": [
    "# Data Loader"
   ]
  },
  {
   "cell_type": "code",
   "execution_count": 1,
   "metadata": {},
   "outputs": [],
   "source": [
    "import sys\n",
    "import math\n",
    "import mmap\n",
    "import pickle\n",
    "import posix_ipc as ipc\n",
    "import pandas as pd"
   ]
  },
  {
   "cell_type": "markdown",
   "metadata": {},
   "source": [
    "## 1. Read the pandas data frame"
   ]
  },
  {
   "cell_type": "code",
   "execution_count": 2,
   "metadata": {},
   "outputs": [
    {
     "data": {
      "text/html": [
       "<div>\n",
       "<style scoped>\n",
       "    .dataframe tbody tr th:only-of-type {\n",
       "        vertical-align: middle;\n",
       "    }\n",
       "\n",
       "    .dataframe tbody tr th {\n",
       "        vertical-align: top;\n",
       "    }\n",
       "\n",
       "    .dataframe thead th {\n",
       "        text-align: right;\n",
       "    }\n",
       "</style>\n",
       "<table border=\"1\" class=\"dataframe\">\n",
       "  <thead>\n",
       "    <tr style=\"text-align: right;\">\n",
       "      <th></th>\n",
       "      <th>0</th>\n",
       "      <th>1</th>\n",
       "      <th>2</th>\n",
       "      <th>3</th>\n",
       "      <th>4</th>\n",
       "    </tr>\n",
       "  </thead>\n",
       "  <tbody>\n",
       "    <tr>\n",
       "      <th>0</th>\n",
       "      <td>ed0a74c730b1a8470d8dd371714a8b9182d4d860319097...</td>\n",
       "      <td>todayilearned</td>\n",
       "      <td>eug0v</td>\n",
       "      <td>en.wikipedia.org</td>\n",
       "      <td>&lt;title&gt; jeannette rankin - wikipedia , the fre...</td>\n",
       "    </tr>\n",
       "    <tr>\n",
       "      <th>1</th>\n",
       "      <td>5e67754718366a3da48080bd0f7a9b3ed5f2102ab74218...</td>\n",
       "      <td>todayilearned</td>\n",
       "      <td>eug0v</td>\n",
       "      <td>en.wikipedia.org</td>\n",
       "      <td>&lt;h1&gt; jeannette rankin &lt;/h1&gt;</td>\n",
       "    </tr>\n",
       "    <tr>\n",
       "      <th>2</th>\n",
       "      <td>142dc63bcecab761cd8273741aeb55c5cfced225ade3d0...</td>\n",
       "      <td>todayilearned</td>\n",
       "      <td>eug0v</td>\n",
       "      <td>en.wikipedia.org</td>\n",
       "      <td>from wikipedia , the free encyclopedia</td>\n",
       "    </tr>\n",
       "    <tr>\n",
       "      <th>3</th>\n",
       "      <td>18e7c9d00a8ba512e750606f8287236caf94196b102f56...</td>\n",
       "      <td>todayilearned</td>\n",
       "      <td>eug0v</td>\n",
       "      <td>en.wikipedia.org</td>\n",
       "      <td>jump to : navigation , search</td>\n",
       "    </tr>\n",
       "    <tr>\n",
       "      <th>4</th>\n",
       "      <td>25b5f520a7ff719a45d47c1ca714ba632608d180b9368d...</td>\n",
       "      <td>todayilearned</td>\n",
       "      <td>eug0v</td>\n",
       "      <td>en.wikipedia.org</td>\n",
       "      <td>jeannette rankin</td>\n",
       "    </tr>\n",
       "  </tbody>\n",
       "</table>\n",
       "</div>"
      ],
      "text/plain": [
       "                                                   0              1      2  \\\n",
       "0  ed0a74c730b1a8470d8dd371714a8b9182d4d860319097...  todayilearned  eug0v   \n",
       "1  5e67754718366a3da48080bd0f7a9b3ed5f2102ab74218...  todayilearned  eug0v   \n",
       "2  142dc63bcecab761cd8273741aeb55c5cfced225ade3d0...  todayilearned  eug0v   \n",
       "3  18e7c9d00a8ba512e750606f8287236caf94196b102f56...  todayilearned  eug0v   \n",
       "4  25b5f520a7ff719a45d47c1ca714ba632608d180b9368d...  todayilearned  eug0v   \n",
       "\n",
       "                  3                                                  4  \n",
       "0  en.wikipedia.org  <title> jeannette rankin - wikipedia , the fre...  \n",
       "1  en.wikipedia.org                        <h1> jeannette rankin </h1>  \n",
       "2  en.wikipedia.org             from wikipedia , the free encyclopedia  \n",
       "3  en.wikipedia.org                      jump to : navigation , search  \n",
       "4  en.wikipedia.org                                   jeannette rankin  "
      ]
     },
     "execution_count": 2,
     "metadata": {},
     "output_type": "execute_result"
    }
   ],
   "source": [
    "df = pd.read_table(\"data-01.txt\", header=None)\n",
    "df.head()"
   ]
  },
  {
   "cell_type": "markdown",
   "metadata": {},
   "source": [
    "## 2. Store in POSIX inter-process shared memory"
   ]
  },
  {
   "cell_type": "code",
   "execution_count": 3,
   "metadata": {},
   "outputs": [],
   "source": [
    "storage_name = \"/shared-memory-bucket\""
   ]
  },
  {
   "cell_type": "code",
   "execution_count": 4,
   "metadata": {},
   "outputs": [],
   "source": [
    "def save_to_shared_memory(obj, name):\n",
    "    size = sys.getsizeof(obj)\n",
    "    pages = math.ceil(size / ipc.PAGE_SIZE)\n",
    "    try:\n",
    "        memory = ipc.SharedMemory(name=name, flags=ipc.O_CREAT, size=ipc.PAGE_SIZE * pages)\n",
    "    except ValueError: # retry once more\n",
    "        memory = ipc.SharedMemory(name=name, flags=ipc.O_CREAT, size=ipc.PAGE_SIZE * pages)\n",
    "    io = mmap.mmap(fileno=memory.fd, length=memory.size, flags=mmap.MAP_SHARED, \n",
    "                   prot=mmap.PROT_WRITE)\n",
    "    io.write(pickle.dumps(obj))\n",
    "    io.close()\n",
    "    memory.close_fd()\n",
    "    return memory.name"
   ]
  },
  {
   "cell_type": "code",
   "execution_count": 5,
   "metadata": {},
   "outputs": [
    {
     "data": {
      "text/plain": [
       "'/shared-memory-bucket'"
      ]
     },
     "execution_count": 5,
     "metadata": {},
     "output_type": "execute_result"
    }
   ],
   "source": [
    "save_to_shared_memory(df, storage_name)"
   ]
  },
  {
   "cell_type": "code",
   "execution_count": 6,
   "metadata": {},
   "outputs": [],
   "source": [
    "def release_process_from_shared_memory(memory_identifier):\n",
    "    try:\n",
    "        shared_mem = ipc.SharedMemory(memory_identifier)\n",
    "        shared_mem.unlink()\n",
    "        # will be destructed if every process `unlinked`\n",
    "        print(\"INFO: shared memory detached from process\")\n",
    "    except ipc.ExistentialError:\n",
    "        print(\"WARN: shared memory not found\")\n",
    "        pass"
   ]
  },
  {
   "cell_type": "code",
   "execution_count": 7,
   "metadata": {},
   "outputs": [],
   "source": [
    "#release_process_from_shared_memory('/shared-memory-bucket')"
   ]
  }
 ],
 "metadata": {
  "kernelspec": {
   "display_name": "Python 3",
   "language": "python",
   "name": "python3"
  },
  "language_info": {
   "codemirror_mode": {
    "name": "ipython",
    "version": 3
   },
   "file_extension": ".py",
   "mimetype": "text/x-python",
   "name": "python",
   "nbconvert_exporter": "python",
   "pygments_lexer": "ipython3",
   "version": "3.6.5"
  }
 },
 "nbformat": 4,
 "nbformat_minor": 2
}
