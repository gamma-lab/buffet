{
 "cells": [
  {
   "cell_type": "markdown",
   "metadata": {},
   "source": [
    "# Data Reader\n",
    "Pickled object is stored in the shared physical memory. Therefore, `read_from_shared_memory` returns a copy of pandas object saved in memory by `loader` process. Pickling will not serve well for large data. However, we aren't short of RAM and **this approach is 135% faster on a 2GB dataset**."
   ]
  },
  {
   "cell_type": "code",
   "execution_count": 1,
   "metadata": {},
   "outputs": [],
   "source": [
    "import mmap\n",
    "import pickle\n",
    "import posix_ipc as ipc\n",
    "import pandas as pd"
   ]
  },
  {
   "cell_type": "code",
   "execution_count": 2,
   "metadata": {},
   "outputs": [],
   "source": [
    "# variables..\n",
    "shared_memory_name = \"/shared-memory-bucket\"\n",
    "data_file = \"data-01.txt\""
   ]
  },
  {
   "cell_type": "markdown",
   "metadata": {},
   "source": [
    "## Description"
   ]
  },
  {
   "cell_type": "code",
   "execution_count": 3,
   "metadata": {},
   "outputs": [],
   "source": [
    "def get_file_size(path):\n",
    "    with open(path) as f:\n",
    "        io = mmap.mmap(f.fileno(), 0, mmap.MAP_PRIVATE, mmap.PROT_READ)\n",
    "        return io.size()"
   ]
  },
  {
   "cell_type": "code",
   "execution_count": 4,
   "metadata": {},
   "outputs": [
    {
     "name": "stdout",
     "output_type": "stream",
     "text": [
      "File:    data-01.txt\n",
      "Type:    text/csv\n",
      "Size:    2504.015418 MB\n"
     ]
    }
   ],
   "source": [
    "print(\"File:   \", data_file)\n",
    "print(\"Type:   \", \"text/csv\")\n",
    "print(\"Size:   \", get_file_size(data_file) / 10**6, \"MB\")"
   ]
  },
  {
   "cell_type": "markdown",
   "metadata": {},
   "source": [
    "## 1. Read from shared memory created by Loader "
   ]
  },
  {
   "cell_type": "code",
   "execution_count": 5,
   "metadata": {},
   "outputs": [],
   "source": [
    "def read_from_shared_memory(name):\n",
    "    memory = ipc.SharedMemory(name=name)\n",
    "    io = mmap.mmap(memory.fd, memory.size, mmap.MAP_SHARED, mmap.PROT_READ)\n",
    "    bytes_obj = io.read()\n",
    "    obj = pickle.loads(bytes_obj)\n",
    "    io.close()\n",
    "    memory.close_fd()\n",
    "    return obj"
   ]
  },
  {
   "cell_type": "code",
   "execution_count": 6,
   "metadata": {},
   "outputs": [
    {
     "name": "stdout",
     "output_type": "stream",
     "text": [
      "14 s ± 830 ms per loop (mean ± std. dev. of 7 runs, 1 loop each)\n"
     ]
    }
   ],
   "source": [
    "%%timeit\n",
    "df = read_from_shared_memory(shared_memory_name)"
   ]
  },
  {
   "cell_type": "code",
   "execution_count": 7,
   "metadata": {},
   "outputs": [
    {
     "data": {
      "text/html": [
       "<div>\n",
       "<style scoped>\n",
       "    .dataframe tbody tr th:only-of-type {\n",
       "        vertical-align: middle;\n",
       "    }\n",
       "\n",
       "    .dataframe tbody tr th {\n",
       "        vertical-align: top;\n",
       "    }\n",
       "\n",
       "    .dataframe thead th {\n",
       "        text-align: right;\n",
       "    }\n",
       "</style>\n",
       "<table border=\"1\" class=\"dataframe\">\n",
       "  <thead>\n",
       "    <tr style=\"text-align: right;\">\n",
       "      <th></th>\n",
       "      <th>0</th>\n",
       "      <th>1</th>\n",
       "      <th>2</th>\n",
       "      <th>3</th>\n",
       "      <th>4</th>\n",
       "    </tr>\n",
       "  </thead>\n",
       "  <tbody>\n",
       "    <tr>\n",
       "      <th>0</th>\n",
       "      <td>ed0a74c730b1a8470d8dd371714a8b9182d4d860319097...</td>\n",
       "      <td>todayilearned</td>\n",
       "      <td>eug0v</td>\n",
       "      <td>en.wikipedia.org</td>\n",
       "      <td>&lt;title&gt; jeannette rankin - wikipedia , the fre...</td>\n",
       "    </tr>\n",
       "    <tr>\n",
       "      <th>1</th>\n",
       "      <td>5e67754718366a3da48080bd0f7a9b3ed5f2102ab74218...</td>\n",
       "      <td>todayilearned</td>\n",
       "      <td>eug0v</td>\n",
       "      <td>en.wikipedia.org</td>\n",
       "      <td>&lt;h1&gt; jeannette rankin &lt;/h1&gt;</td>\n",
       "    </tr>\n",
       "    <tr>\n",
       "      <th>2</th>\n",
       "      <td>142dc63bcecab761cd8273741aeb55c5cfced225ade3d0...</td>\n",
       "      <td>todayilearned</td>\n",
       "      <td>eug0v</td>\n",
       "      <td>en.wikipedia.org</td>\n",
       "      <td>from wikipedia , the free encyclopedia</td>\n",
       "    </tr>\n",
       "    <tr>\n",
       "      <th>3</th>\n",
       "      <td>18e7c9d00a8ba512e750606f8287236caf94196b102f56...</td>\n",
       "      <td>todayilearned</td>\n",
       "      <td>eug0v</td>\n",
       "      <td>en.wikipedia.org</td>\n",
       "      <td>jump to : navigation , search</td>\n",
       "    </tr>\n",
       "    <tr>\n",
       "      <th>4</th>\n",
       "      <td>25b5f520a7ff719a45d47c1ca714ba632608d180b9368d...</td>\n",
       "      <td>todayilearned</td>\n",
       "      <td>eug0v</td>\n",
       "      <td>en.wikipedia.org</td>\n",
       "      <td>jeannette rankin</td>\n",
       "    </tr>\n",
       "  </tbody>\n",
       "</table>\n",
       "</div>"
      ],
      "text/plain": [
       "                                                   0              1      2  \\\n",
       "0  ed0a74c730b1a8470d8dd371714a8b9182d4d860319097...  todayilearned  eug0v   \n",
       "1  5e67754718366a3da48080bd0f7a9b3ed5f2102ab74218...  todayilearned  eug0v   \n",
       "2  142dc63bcecab761cd8273741aeb55c5cfced225ade3d0...  todayilearned  eug0v   \n",
       "3  18e7c9d00a8ba512e750606f8287236caf94196b102f56...  todayilearned  eug0v   \n",
       "4  25b5f520a7ff719a45d47c1ca714ba632608d180b9368d...  todayilearned  eug0v   \n",
       "\n",
       "                  3                                                  4  \n",
       "0  en.wikipedia.org  <title> jeannette rankin - wikipedia , the fre...  \n",
       "1  en.wikipedia.org                        <h1> jeannette rankin </h1>  \n",
       "2  en.wikipedia.org             from wikipedia , the free encyclopedia  \n",
       "3  en.wikipedia.org                      jump to : navigation , search  \n",
       "4  en.wikipedia.org                                   jeannette rankin  "
      ]
     },
     "execution_count": 7,
     "metadata": {},
     "output_type": "execute_result"
    }
   ],
   "source": [
    "df = read_from_shared_memory(shared_memory_name)\n",
    "df.head()"
   ]
  },
  {
   "cell_type": "markdown",
   "metadata": {},
   "source": [
    "## 2. Read from disk"
   ]
  },
  {
   "cell_type": "code",
   "execution_count": 8,
   "metadata": {},
   "outputs": [
    {
     "name": "stdout",
     "output_type": "stream",
     "text": [
      "32.9 s ± 259 ms per loop (mean ± std. dev. of 7 runs, 1 loop each)\n"
     ]
    }
   ],
   "source": [
    "%%timeit\n",
    "pd.read_table(data_file, header=None)"
   ]
  }
 ],
 "metadata": {
  "kernelspec": {
   "display_name": "Python 3",
   "language": "python",
   "name": "python3"
  },
  "language_info": {
   "codemirror_mode": {
    "name": "ipython",
    "version": 3
   },
   "file_extension": ".py",
   "mimetype": "text/x-python",
   "name": "python",
   "nbconvert_exporter": "python",
   "pygments_lexer": "ipython3",
   "version": "3.6.5"
  }
 },
 "nbformat": 4,
 "nbformat_minor": 2
}
